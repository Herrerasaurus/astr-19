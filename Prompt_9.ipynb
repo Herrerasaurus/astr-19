{
 "cells": [
  {
   "cell_type": "markdown",
   "id": "aada93b4",
   "metadata": {},
   "source": [
    "Create a Jupyter notebook, import matplotlib. Use numpy to pull 1000 random numbers distributed uniformly between [0,1]. Histogram the random numbers into 100 bins, and plot the histogram. Label your axes and save the figure as a PDF."
   ]
  },
  {
   "cell_type": "code",
   "execution_count": 3,
   "id": "84b36d36",
   "metadata": {},
   "outputs": [],
   "source": [
    "import matplotlib.pyplot as plt\n",
    "import numpy as np"
   ]
  },
  {
   "cell_type": "code",
   "execution_count": 11,
   "id": "50c325f9",
   "metadata": {},
   "outputs": [
    {
     "data": {
      "image/png": "[encoded data removed]",
      "text/plain": [
       "<Figure size 432x288 with 1 Axes>"
      ]
     },
     "metadata": {
      "needs_background": "light"
     },
     "output_type": "display_data"
    }
   ],
   "source": [
    "#generate 1000 numbers between 0,1\n",
    "n = 1000\n",
    "x = np.random.uniform(0,1,n)\n",
    "\n",
    "histmin = 0\n",
    "histmax = 1\n",
    "\n",
    "\n",
    "plt.hist(x,bins=100,alpha=0.5,color = \"dodgerblue\",edgecolor=\"midnightblue\")\n",
    "plt.ylabel(\"N per bin\")\n",
    "plt.xlabel(\"x\")\n",
    "plt.savefig(\"prompt9.pdf\",bbox_inches=\"tight\",facecolor=\"aliceblue\")\n"
   ]
  },
  {
   "cell_type": "code",
   "execution_count": null,
   "id": "02726444",
   "metadata": {},
   "outputs": [],
   "source": [
    "\n"
   ]
  }
 ],
 "metadata": {
  "kernelspec": {
   "display_name": "Python 3",
   "language": "python",
   "name": "python3"
  },
  "language_info": {
   "codemirror_mode": {
    "name": "ipython",
    "version": 3
   },
   "file_extension": ".py",
   "mimetype": "text/x-python",
   "name": "python",
   "nbconvert_exporter": "python",
   "pygments_lexer": "ipython3",
   "version": "3.8.8"
  }
 },
 "nbformat": 4,
 "nbformat_minor": 5
}
