{
 "cells": [
  {
   "cell_type": "markdown",
   "id": "88b00add",
   "metadata": {},
   "source": [
    "Create a Jupyter notebook, import matplotlib. Write cells that create an array x ranging from [0,1] in 100 steps and that defines functions that return sin(x) and cos(x).  In a new cell use to create a multipanel plot (1 row, 2 columns), plotting sin(x) vs. x in the left panel and cos(x) vs. x in the right panel. Label the panels with sin(x) and cos(x), and save the figure as a PDF."
   ]
  },
  {
   "cell_type": "code",
   "execution_count": 27,
   "id": "6b2c6139",
   "metadata": {},
   "outputs": [],
   "source": [
    "import matplotlib.pyplot as plt\n",
    "import numpy as np"
   ]
  },
  {
   "cell_type": "code",
   "execution_count": 28,
   "id": "971ace99",
   "metadata": {},
   "outputs": [],
   "source": [
    "def sin(x):\n",
    "    ans = np.sin(x)\n",
    "    return ans"
   ]
  },
  {
   "cell_type": "code",
   "execution_count": 29,
   "id": "f7ea4eee",
   "metadata": {},
   "outputs": [],
   "source": [
    "def cos(x):\n",
    "    ans = np.cos(x)\n",
    "    return ans"
   ]
  },
  {
   "cell_type": "code",
   "execution_count": 38,
   "id": "42d8fec8",
   "metadata": {},
   "outputs": [],
   "source": [
    "def multi(x,flag_save=True, xlabel='x',\n",
    "          ylabel='y',lcolor='green',fs=10,\n",
    "          fname='prompt8.pdf'):\n",
    "    \n",
    "    f, ax = plt.subplots(1,2,figsize=(4*2,4*1))\n",
    "    #left panel\n",
    "    s = sin(x)\n",
    "    ax[0].plot(s,x,color=\"red\")\n",
    "    ax[0].set_xlabel(\"sin(x)\")\n",
    "   \n",
    "    #right panel\n",
    "    c = cos(x)\n",
    "    ax[1].plot(c,x,color=\"green\")\n",
    "    ax[1].set_xlabel(\"cos(x)\")\n",
    "    ax[1].set_ylabel(\" \")\n",
    "    plt.savefig(\"Prompt-8.pdf\", bbox_inches=\"tight\",facecolor=\"tan\",dpi=400)\n",
    "    "
   ]
  },
  {
   "cell_type": "code",
   "execution_count": 39,
   "id": "68c5f3b2",
   "metadata": {},
   "outputs": [
    {
     "data": {
      "image/png": "[encoded data removed]",
      "text/plain": [
       "<Figure size 576x288 with 2 Axes>"
      ]
     },
     "metadata": {
      "needs_background": "light"
     },
     "output_type": "display_data"
    }
   ],
   "source": [
    "x = np.linspace(0,1, 100) # x = [0,1] in 100 steps\n",
    "multi(x)\n"
   ]
  },
  {
   "cell_type": "code",
   "execution_count": null,
   "id": "9f88d097",
   "metadata": {},
   "outputs": [],
   "source": []
  }
 ],
 "metadata": {
  "kernelspec": {
   "display_name": "Python 3",
   "language": "python",
   "name": "python3"
  },
  "language_info": {
   "codemirror_mode": {
    "name": "ipython",
    "version": 3
   },
   "file_extension": ".py",
   "mimetype": "text/x-python",
   "name": "python",
   "nbconvert_exporter": "python",
   "pygments_lexer": "ipython3",
   "version": "3.8.8"
  }
 },
 "nbformat": 4,
 "nbformat_minor": 5
}
