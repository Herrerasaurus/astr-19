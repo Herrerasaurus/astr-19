{
 "cells": [
  {
   "cell_type": "markdown",
   "id": "4b2b781c",
   "metadata": {},
   "source": [
    "Create a Jupyter Notebook where, in separate cells,\n",
    "you define functions that return sin(x) and cos(x).\n",
    "Use Markdown cells to comment your Notebook,\n",
    "and describe what each function does.\n",
    "\n",
    "Create a third Python cell that will tabulate sin(x) and cos(x)\n",
    "using these previously defined functions vs. x,\n",
    "where x is tabulated between 0 and 2 with a thousand entries.\n",
    "Write a fourth Python cell that will use a for loop to print out\n",
    "the first 10 values of x, sin(x), and cos(x) in columns.\n"
   ]
  },
  {
   "cell_type": "code",
   "execution_count": 6,
   "id": "19798403",
   "metadata": {},
   "outputs": [],
   "source": [
    "import numpy as np"
   ]
  },
  {
   "cell_type": "markdown",
   "id": "2210f47c",
   "metadata": {},
   "source": [
    "returns sin of x value when called"
   ]
  },
  {
   "cell_type": "code",
   "execution_count": 7,
   "id": "b8c825fe",
   "metadata": {},
   "outputs": [],
   "source": [
    "def calcsin(x):\n",
    "    s = np.sin(x)\n",
    "    return s"
   ]
  },
  {
   "cell_type": "raw",
   "id": "703523b7",
   "metadata": {},
   "source": [
    "return cos of x value when called"
   ]
  },
  {
   "cell_type": "code",
   "execution_count": 8,
   "id": "3a65ff2a",
   "metadata": {},
   "outputs": [],
   "source": [
    "def calccos(x):\n",
    "    c = np.cos(x)\n",
    "    return c"
   ]
  },
  {
   "cell_type": "markdown",
   "id": "9769207c",
   "metadata": {},
   "source": [
    "tabulate sin(x) and cos(x) using above functions\n",
    "functions vs. x\n",
    "x = tabulated between 0 and 2 with a thousand entires"
   ]
  },
  {
   "cell_type": "code",
   "execution_count": 15,
   "id": "c717849a",
   "metadata": {},
   "outputs": [],
   "source": [
    "def tab(x):\n",
    "    print(f\"{x:1.16f} |{calcsin(x):1.16f} | {calccos(x):1.16f}\")\n",
    "\n",
    "\n"
   ]
  },
  {
   "cell_type": "markdown",
   "id": "8dae7706",
   "metadata": {},
   "source": [
    "use for loop to print out the first 10 values of x, sin(x), and cos(x) in columns"
   ]
  },
  {
   "cell_type": "code",
   "execution_count": 26,
   "id": "3295f063",
   "metadata": {},
   "outputs": [
    {
     "name": "stdout",
     "output_type": "stream",
     "text": [
      "           x       |       sin(x)      |      cos(x)\n",
      "-----------------------------------------------------------\n",
      "0.0000000000000000 |0.0000000000000000 | 1.0000000000000000\n",
      "0.0020020020020020 |0.0020020006646609 | 0.9999979959946613\n",
      "0.0040040040040040 |0.0040039933052818 | 0.9999919839866774\n",
      "0.0060060060060060 |0.0060059698978548 | 0.9999819640001444\n",
      "0.0080080080080080 |0.0080079224184363 | 0.9999679360752225\n",
      "0.0100100100100100 |0.0100098428431792 | 0.9999499002681359\n",
      "0.0120120120120120 |0.0120117231483651 | 0.9999278566511721\n",
      "0.0140140140140140 |0.0140135553104364 | 0.9999018053126824\n",
      "0.0160160160160160 |0.0160153313060284 | 0.9998717463570806\n",
      "0.0180180180180180 |0.0180170431120015 | 0.9998376799048435\n"
     ]
    }
   ],
   "source": [
    "\n",
    "#set up table\n",
    "print(\"           x       |       sin(x)      |      cos(x)\")\n",
    "print(\"-----------------------------------------------------------\")\n",
    "n = 1000\n",
    "arr = np.linspace(0,2,n)\n",
    "first = arr[0:10]\n",
    "#for each item in arr\n",
    "for x in first:\n",
    "    #print out sin, cos, then x in table form\n",
    "    tab(x)\n",
    "        "
   ]
  },
  {
   "cell_type": "code",
   "execution_count": null,
   "id": "2c73b4d2",
   "metadata": {},
   "outputs": [],
   "source": []
  }
 ],
 "metadata": {
  "kernelspec": {
   "display_name": "Python 3",
   "language": "python",
   "name": "python3"
  },
  "language_info": {
   "codemirror_mode": {
    "name": "ipython",
    "version": 3
   },
   "file_extension": ".py",
   "mimetype": "text/x-python",
   "name": "python",
   "nbconvert_exporter": "python",
   "pygments_lexer": "ipython3",
   "version": "3.8.8"
  }
 },
 "nbformat": 4,
 "nbformat_minor": 5
}
